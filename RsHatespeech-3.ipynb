{
  "nbformat": 4,
  "nbformat_minor": 0,
  "metadata": {
    "colab": {
      "provenance": []
    },
    "kernelspec": {
      "name": "python3",
      "display_name": "Python 3"
    },
    "language_info": {
      "name": "python"
    }
  },
  "cells": [
    {
      "cell_type": "code",
      "source": [
        "\n",
        "!pip install -q transformers datasets scikit-learn matplotlib seaborn\n",
        "\n",
        "import pandas as pd\n",
        "import numpy as np\n",
        "import torch\n",
        "import torch.nn as nn\n",
        "from torch.utils.data import Dataset, DataLoader\n",
        "from transformers import RobertaTokenizer, RobertaModel\n",
        "from sklearn.model_selection import train_test_split\n",
        "from sklearn.metrics import classification_report, confusion_matrix, accuracy_score\n",
        "from sklearn.utils.class_weight import compute_class_weight\n",
        "import seaborn as sns\n",
        "import matplotlib.pyplot as plt\n",
        "from tqdm import tqdm\n",
        "import os\n",
        "\n",
        "\n",
        "device = torch.device('cuda' if torch.cuda.is_available() else 'cpu')\n",
        "print(\" Using device:\", device)\n",
        "\n",
        "\n",
        "df = pd.read_csv('/content/reddit_labeled-3.csv')\n",
        "df = df[['Content', 'Label']]\n",
        "\n",
        "# Class weights\n",
        "class_weights = compute_class_weight(class_weight=\"balanced\", classes=np.unique(df.Label), y=df.Label)\n",
        "class_weights = torch.tensor(class_weights, dtype=torch.float).to(device)\n",
        "\n",
        "# Train-test split\n",
        "train_texts, test_texts, train_labels, test_labels = train_test_split(\n",
        "    df['Content'].tolist(), df['Label'].tolist(), test_size=0.2, random_state=42)\n",
        "\n",
        "tokenizer = RobertaTokenizer.from_pretrained('roberta-base')\n",
        "\n",
        "def tokenize(texts, max_len=128):\n",
        "    return tokenizer(texts, padding='max_length', truncation=True, max_length=max_len, return_tensors=\"pt\")\n",
        "\n",
        "# Dataset class\n",
        "class HateSpeechDataset(Dataset):\n",
        "    def __init__(self, texts, labels):\n",
        "        self.encodings = tokenize(texts)\n",
        "        self.labels = labels\n",
        "\n",
        "    def __len__(self):\n",
        "        return len(self.labels)\n",
        "\n",
        "    def __getitem__(self, idx):\n",
        "        item = {key: val[idx] for key, val in self.encodings.items()}\n",
        "        item['labels'] = torch.tensor(self.labels[idx])\n",
        "        return item\n",
        "\n",
        "# DataLoader\n",
        "train_dataset = HateSpeechDataset(train_texts, train_labels)\n",
        "test_dataset = HateSpeechDataset(test_texts, test_labels)\n",
        "\n",
        "train_loader = DataLoader(train_dataset, batch_size=16, shuffle=True)\n",
        "test_loader = DataLoader(test_dataset, batch_size=16)\n",
        "\n",
        "\n",
        "roberta = RobertaModel.from_pretrained('roberta-base')\n",
        "\n",
        "# Classifier\n",
        "class RoBERTaLSTMClassifier(nn.Module):\n",
        "    def __init__(self, roberta, hidden_dim=128, num_classes=2):\n",
        "        super().__init__()\n",
        "        self.roberta = roberta\n",
        "        self.lstm = nn.LSTM(input_size=768, hidden_size=hidden_dim, batch_first=True, bidirectional=True)\n",
        "        self.fc = nn.Linear(hidden_dim * 2, num_classes)\n",
        "\n",
        "    def forward(self, input_ids, attention_mask):\n",
        "        outputs = self.roberta(input_ids=input_ids, attention_mask=attention_mask)\n",
        "        last_hidden_state = outputs.last_hidden_state\n",
        "        lstm_out, _ = self.lstm(last_hidden_state)\n",
        "        pooled = torch.mean(lstm_out, 1)\n",
        "        return self.fc(pooled)\n",
        "\n",
        "model = RoBERTaLSTMClassifier(roberta).to(device)\n",
        "criterion = nn.CrossEntropyLoss(weight=class_weights)\n",
        "optimizer = torch.optim.Adam(model.parameters(), lr=2e-5)\n",
        "\n",
        "# Training\n",
        "epochs = 5\n",
        "model.train()\n",
        "for epoch in range(epochs):\n",
        "    total_loss = 0\n",
        "    for batch in tqdm(train_loader, desc=f\"Epoch {epoch+1}/{epochs}\"):\n",
        "        input_ids = batch['input_ids'].to(device)\n",
        "        attention_mask = batch['attention_mask'].to(device)\n",
        "        labels = batch['labels'].to(device)\n",
        "\n",
        "        outputs = model(input_ids, attention_mask)\n",
        "        loss = criterion(outputs, labels)\n",
        "\n",
        "        optimizer.zero_grad()\n",
        "        loss.backward()\n",
        "        optimizer.step()\n",
        "\n",
        "        total_loss += loss.item()\n",
        "\n",
        "    print(f\"\\n📉 Epoch {epoch + 1} Loss: {total_loss:.4f}\")\n",
        "\n",
        "# Evaluation\n",
        "model.eval()\n",
        "predictions, true_labels = [], []\n",
        "with torch.no_grad():\n",
        "    for batch in test_loader:\n",
        "        input_ids = batch['input_ids'].to(device)\n",
        "        attention_mask = batch['attention_mask'].to(device)\n",
        "        labels = batch['labels'].to(device)\n",
        "\n",
        "        outputs = model(input_ids, attention_mask)\n",
        "        preds = torch.argmax(outputs, dim=1)\n",
        "\n",
        "        predictions.extend(preds.cpu().numpy())\n",
        "        true_labels.extend(labels.cpu().numpy())\n",
        "\n",
        "# Accuracy\n",
        "acc = accuracy_score(true_labels, predictions)\n",
        "print(f\"\\n Accuracy: {acc:.4f}\")\n",
        "\n",
        "# Classification report\n",
        "print(\"\\n Classification Report:\")\n",
        "print(classification_report(true_labels, predictions, digits=4))\n",
        "\n",
        "# Confusion matrix heatmap\n",
        "cm = confusion_matrix(true_labels, predictions)\n",
        "plt.figure(figsize=(6,4))\n",
        "sns.heatmap(cm, annot=True, fmt=\"d\", cmap=\"Blues\", xticklabels=['Non-Hate', 'Hate'], yticklabels=['Non-Hate', 'Hate'])\n",
        "plt.title(\"Confusion Matrix\")\n",
        "plt.xlabel(\"Predicted\")\n",
        "plt.ylabel(\"True\")\n",
        "plt.show()\n",
        "\n",
        "\n",
        "model_path = \"/content/roberta_lstm_model.pth\"\n",
        "torch.save(model.state_dict(), model_path)\n",
        "print(f\" Model saved to: {model_path}\")\n"
      ],
      "metadata": {
        "colab": {
          "base_uri": "https://localhost:8080/",
          "height": 974
        },
        "id": "yW4kRWEtbCZk",
        "outputId": "d8ee798a-7bfd-414c-fec3-a3285cb192a9"
      },
      "execution_count": null,
      "outputs": [
        {
          "metadata": {
            "tags": null
          },
          "name": "stdout",
          "output_type": "stream",
          "text": [
            "✅ Using device: cpu\n"
          ]
        },
        {
          "metadata": {
            "tags": null
          },
          "name": "stderr",
          "output_type": "stream",
          "text": [
            "Some weights of RobertaModel were not initialized from the model checkpoint at roberta-base and are newly initialized: ['pooler.dense.bias', 'pooler.dense.weight']\n",
            "You should probably TRAIN this model on a down-stream task to be able to use it for predictions and inference.\n",
            "Epoch 1/5: 100%|██████████| 221/221 [1:08:36<00:00, 18.63s/it]\n"
          ]
        },
        {
          "metadata": {
            "tags": null
          },
          "name": "stdout",
          "output_type": "stream",
          "text": [
            "\n",
            "📉 Epoch 1 Loss: 69.0626\n"
          ]
        },
        {
          "metadata": {
            "tags": null
          },
          "name": "stderr",
          "output_type": "stream",
          "text": [
            "Epoch 2/5: 100%|██████████| 221/221 [1:07:58<00:00, 18.46s/it]\n"
          ]
        },
        {
          "metadata": {
            "tags": null
          },
          "name": "stdout",
          "output_type": "stream",
          "text": [
            "\n",
            "📉 Epoch 2 Loss: 33.4326\n"
          ]
        },
        {
          "metadata": {
            "tags": null
          },
          "name": "stderr",
          "output_type": "stream",
          "text": [
            "Epoch 3/5: 100%|██████████| 221/221 [1:08:20<00:00, 18.55s/it]\n"
          ]
        },
        {
          "metadata": {
            "tags": null
          },
          "name": "stdout",
          "output_type": "stream",
          "text": [
            "\n",
            "📉 Epoch 3 Loss: 19.0077\n"
          ]
        },
        {
          "metadata": {
            "tags": null
          },
          "name": "stderr",
          "output_type": "stream",
          "text": [
            "Epoch 4/5: 100%|██████████| 221/221 [1:07:40<00:00, 18.37s/it]\n"
          ]
        },
        {
          "metadata": {
            "tags": null
          },
          "name": "stdout",
          "output_type": "stream",
          "text": [
            "\n",
            "📉 Epoch 4 Loss: 11.1811\n"
          ]
        },
        {
          "metadata": {
            "tags": null
          },
          "name": "stderr",
          "output_type": "stream",
          "text": [
            "Epoch 5/5: 100%|██████████| 221/221 [1:07:52<00:00, 18.43s/it]\n"
          ]
        },
        {
          "output_type": "stream",
          "name": "stdout",
          "text": [
            "\n",
            "📉 Epoch 5 Loss: 14.0545\n",
            "\n",
            "✅ Accuracy: 0.9729\n",
            "\n",
            "📊 Classification Report:\n",
            "              precision    recall  f1-score   support\n",
            "\n",
            "           0     0.9768    0.9922    0.9844       765\n",
            "           1     0.9444    0.8500    0.8947       120\n",
            "\n",
            "    accuracy                         0.9729       885\n",
            "   macro avg     0.9606    0.9211    0.9396       885\n",
            "weighted avg     0.9724    0.9729    0.9723       885\n",
            "\n"
          ]
        },
        {
          "output_type": "display_data",
          "data": {
            "text/plain": [
              "<Figure size 600x400 with 2 Axes>"
            ],
            "image/png": "[encoded data removed]"
          },
          "metadata": {}
        },
        {
          "output_type": "stream",
          "name": "stdout",
          "text": [
            "💾 Model saved to: /content/roberta_lstm_model.pth\n"
          ]
        }
      ]
    },
    {
      "cell_type": "code",
      "source": [
        "import torch\n",
        "from transformers import RobertaTokenizer, RobertaModel\n",
        "import torch.nn as nn\n",
        "\n",
        "device = torch.device('cuda' if torch.cuda.is_available() else 'cpu')\n",
        "print(\"Using:\", device)\n",
        "\n",
        "\n",
        "tokenizer = RobertaTokenizer.from_pretrained('roberta-base')\n",
        "\n",
        "# Define the same model architecture\n",
        "class RoBERTaLSTMClassifier(nn.Module):\n",
        "    def __init__(self, roberta, hidden_dim=128, num_classes=2):\n",
        "        super(RoBERTaLSTMClassifier, self).__init__()\n",
        "        self.roberta = roberta\n",
        "        self.lstm = nn.LSTM(input_size=768, hidden_size=hidden_dim,\n",
        "                            batch_first=True, bidirectional=True)\n",
        "        self.fc = nn.Linear(hidden_dim * 2, num_classes)\n",
        "\n",
        "    def forward(self, input_ids, attention_mask):\n",
        "        roberta_outputs = self.roberta(input_ids=input_ids, attention_mask=attention_mask)\n",
        "        last_hidden_state = roberta_outputs.last_hidden_state\n",
        "        lstm_out, _ = self.lstm(last_hidden_state)\n",
        "        pooled = torch.mean(lstm_out, 1)\n",
        "        return self.fc(pooled)\n",
        "\n",
        "# Load model\n",
        "roberta = RobertaModel.from_pretrained('roberta-base')\n",
        "model = RoBERTaLSTMClassifier(roberta).to(device)\n",
        "\n",
        "model.load_state_dict(torch.load(\"/content/roberta_lstm_model.pth\", map_location=device))\n",
        "model.eval()\n",
        "\n",
        "# Prediction function\n",
        "def predict(text):\n",
        "    inputs = tokenizer(text, return_tensors='pt', truncation=True, padding='max_length', max_length=64)\n",
        "    input_ids = inputs['input_ids'].to(device)\n",
        "    attention_mask = inputs['attention_mask'].to(device)\n",
        "\n",
        "    with torch.no_grad():\n",
        "        outputs = model(input_ids, attention_mask)\n",
        "        probs = torch.softmax(outputs, dim=1)\n",
        "        pred = torch.argmax(probs, dim=1).item()\n",
        "\n",
        "    label = \" Hate\" if pred == 1 else \"Not Hate\"\n",
        "    confidence = probs[0][pred].item()\n",
        "\n",
        "    print(f\"\\n Input: {text}\")\n",
        "    print(f\" Prediction: {label}\")\n",
        "    print(f\"Confidence: {confidence:.4f}\")\n",
        "\n",
        "\n",
        "predict(\" you are full of shit , you deserve to be slaughtered \")\n",
        "predict(\" you are very good boy\")\n"
      ],
      "metadata": {
        "id": "m3Rj2Og0slYq"
      },
      "execution_count": null,
      "outputs": []
    }
  ]
}